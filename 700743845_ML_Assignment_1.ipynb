{
 "cells": [
  {
   "cell_type": "code",
   "execution_count": 5,
   "id": "4c6b1b7b",
   "metadata": {},
   "outputs": [
    {
     "name": "stdout",
     "output_type": "stream",
     "text": [
      "The sorted list: [19, 19, 20, 22, 24, 24, 24, 25, 25, 26]\n",
      "The minimum value in the list ages is : 19\n",
      "The maximum value in the list ages is : 26\n",
      "ages after sorting and appending:  [19, 19, 20, 22, 24, 24, 24, 25, 25, 26, 19, 26]\n",
      "median is: 24\n",
      "Average is : 22.75\n",
      "Range is :  7\n"
     ]
    }
   ],
   "source": [
    "#Question Number 1:-\n",
    "\n",
    "ages = [19, 22, 19, 24, 20, 25, 26, 24, 25, 24]\n",
    "# using inbuilt sort funtion to sort the list\n",
    "ages.sort()\n",
    "print(\"The sorted list:\",ages)\n",
    "\"\"\"using min() and max() inbuilt functions on the list to find the maximum and minimum value in the list and assigning then\n",
    "   assigning them to a variable for further use\"\"\"\n",
    "minimum=min(ages)\n",
    "print(\"The minimum value in the list ages is :\",minimum)\n",
    "maximum=max(ages)\n",
    "print(\"The maximum value in the list ages is :\",maximum)\n",
    "#appending the minimum and maximum values to the list\n",
    "\n",
    "ages.append(minimum)\n",
    "ages.append(maximum)\n",
    "\n",
    "print(\"ages after sorting and appending: \",ages)\n",
    "#finding the length to use it in finding the median of the list\n",
    "length=len(ages)\n",
    "\n",
    "#print(length)\n",
    "median=0\n",
    "k=length/2\n",
    "k2=(length+1)/2\n",
    "l=int(k)\n",
    "l2=int(k2)\n",
    "#print(l)\n",
    "#print(l2)\n",
    "\"\"\"If the length is even then we need to find the average of the average of the two centre most elements of the list or else\n",
    "   we the centre element of the sorted list is our median\"\"\"\n",
    "if (length/2==0):\n",
    "    \n",
    "    median=(ages[l]+ages[l+1])/2\n",
    "else :\n",
    "    median=(ages[l2])\n",
    "    \n",
    "print(\"median is:\",median) \n",
    "# using the sum() inbuilt function to find the average of the elements in the list\n",
    "total=sum(ages)\n",
    "average= total/length\n",
    "print(\"Average is :\",average)\n",
    "#range is difference between the maximum and minimum element in the list\n",
    "range_=maximum-minimum\n",
    "print(\"Range is : \",range_)"
   ]
  },
  {
   "cell_type": "code",
   "execution_count": 6,
   "id": "9a1f88f1",
   "metadata": {},
   "outputs": [
    {
     "name": "stdout",
     "output_type": "stream",
     "text": [
      "{}\n",
      "{'name': 'Akamaru', 'Colour': 'Blue', 'Breed': 'Hound', 'Legs': '4', 'age': '7 years'}\n",
      "The student dictionary is:  {'first_name': 'Hirthik', 'last_name': 'Siripurapu', 'gender': 'Male', 'age': '22', 'marital status': 'Single', 'skills': ['Cricket', 'Football'], 'country': 'USA', 'city': 'Kansas City', 'address': '1101NW Avenue, Lees Summit'}\n",
      "Length of the student dictionary is:  9\n",
      "Type of the skills student dictionary is:  <class 'list'>\n",
      "['Cricket', 'Football', 'basket ball', 'soft ball']\n",
      "[dict_keys(['first_name', 'last_name', 'gender', 'age', 'marital status', 'skills', 'country', 'city', 'address'])]\n",
      "[dict_values(['Hirthik', 'Siripurapu', 'Male', '22', 'Single', ['Cricket', 'Football', 'basket ball', 'soft ball'], 'USA', 'Kansas City', '1101NW Avenue, Lees Summit'])]\n"
     ]
    }
   ],
   "source": [
    "#Question 2:-\n",
    "\n",
    "\n",
    "#Creating an empty Dictionary using curly braces\n",
    "dog={}\n",
    "#printing the empty Dictionary\n",
    "print(dog)\n",
    "#adding elements into the list named dog\n",
    "dog['name']=\"Akamaru\"\n",
    "dog['Colour']=\"Blue\"\n",
    "dog['Breed']=\"Hound\"\n",
    "dog['Legs']=\"4\"\n",
    "dog['age']=\"7 years\"\n",
    "\n",
    "print(dog)\n",
    "\n",
    "#initializing a dictionary along with the values with skills as list data type\n",
    "student={\"first_name\":\"Hirthik\",\"last_name\":\"Siripurapu\",\"gender\":\"Male\",\"age\":\"22\",\n",
    "         \"marital status\":\"Single\",\"skills\":[\"Cricket\",\"Football\"],\"country\":\"USA\",\"city\":\"Kansas City\",\n",
    "         \"address\":\"1101NW Avenue, Lees Summit\"}\n",
    "#printing the student dictionary\n",
    "print(\"The student dictionary is: \" ,student)\n",
    "print(\"Length of the student dictionary is: \" , len(student))\n",
    "print(\"Type of the skills student dictionary is: \", type(student['skills']))\n",
    "#adding new elements into the skills list using append method\n",
    "student['skills'].append(\"basket ball\")\n",
    "student['skills'].append(\"soft ball\")\n",
    "#printing only the skills in the student\n",
    "print((student['skills']))\n",
    "#creating an empty list for keys and values of the student dictionary respectively\n",
    "keys_list=[]\n",
    "values_list=[]\n",
    "#adding keys and values to the lists\n",
    "keys_list.append(student.keys())\n",
    "values_list.append(student.values())\n",
    "#printing keys and values list\n",
    "print(keys_list)\n",
    "print(values_list)"
   ]
  },
  {
   "cell_type": "code",
   "execution_count": 136,
   "id": "456223cc",
   "metadata": {},
   "outputs": [
    {
     "name": "stdout",
     "output_type": "stream",
     "text": [
      "<class 'tuple'>\n",
      "('Sita', 'Gita', 'Rupa', 'Ram', 'Raju', 'Ravi')\n",
      "6\n",
      "['Sita', 'Gita', 'Rupa', 'Ram', 'Raju', 'Ravi']\n",
      "['Sita', 'Gita', 'Rupa', 'Ram', 'Raju', 'Ravi', 'suresh', 'Rupavathi']\n"
     ]
    }
   ],
   "source": [
    "#Question3:-\n",
    "\n",
    "#creating a tuple with some imaginary names\n",
    "sisters=(\"Sita\",\"Gita\",\"Rupa\")\n",
    "brothers=(\"Ram\",\"Raju\",\"Ravi\")\n",
    "#joining the two tuples using \"+\".\n",
    "siblings=sisters+brothers\n",
    "print(type(siblings))\n",
    "print((siblings))\n",
    "#printing the length of the tuple using len() funtion\n",
    "print(len(siblings))\n",
    "#creating a empty list and converting the tuple to list \n",
    "family_members=[]\n",
    "family_members=list(siblings)\n",
    "print(family_members)\n",
    "#adding two new members to the list\n",
    "family_members.append(\"suresh\")\n",
    "family_members.append(\"Rupavathi\")\n",
    "print(family_members)"
   ]
  },
  {
   "cell_type": "code",
   "execution_count": 8,
   "id": "78ad2466",
   "metadata": {},
   "outputs": [
    {
     "name": "stdout",
     "output_type": "stream",
     "text": [
      "7\n",
      "{'HP', 'T-Mobile', 'Microsoft', 'IBM', 'Oracle', 'Apple', 'Google', 'Intel', 'Facebook', 'Twitter'}\n",
      "{19, 20, 22, 24, 25, 26, 27, 28}\n",
      "{19, 20, 22, 24, 25, 26}\n",
      "True\n",
      "False\n",
      "acopy: {19, 20, 22, 24, 25, 26}\n",
      "{19, 20, 22, 24, 25, 26, 27, 28}\n",
      "{19, 20, 22, 24, 25, 26, 27, 28}\n",
      "set()\n",
      "8\n",
      "{19, 22, 24, 25, 26}\n",
      "the difference in lengths is : 3\n"
     ]
    }
   ],
   "source": [
    "#question4:-\n",
    "\n",
    "it_companies = {'Facebook', 'Google', 'Microsoft', 'Apple', 'IBM', 'Oracle', 'Amazon'}\n",
    "A = {19, 22, 24, 20, 25, 26}\n",
    "B = {19, 22, 20, 25, 26, 24, 28, 27}\n",
    "age = [22, 19, 24, 25, 26, 24, 25, 24]\n",
    "#prininting the length of the list and adding the element \"Twitter\" to the set\n",
    "print(len(it_companies))\n",
    "it_companies.add(\"Twitter\")\n",
    "#adding Three elements to the set from a list using update()\n",
    "it_companies.update(['T-Mobile','Intel','HP'])\n",
    "#removing the element using remove() method\n",
    "it_companies.remove('Amazon')\n",
    "print(it_companies)\n",
    "\n",
    "\"\"\"The remove method requiures a parameter(the value which needs to be deleted) and deletes the first occured element from\n",
    "   container and returns an error if the element is not in the container where as the discard element also requires a \n",
    "   parameter which is the value to be deleted from the container and it does not throw an error when the element is not \n",
    "   present in the container and continues the execution of the rest of the program gracefully\"\"\"\n",
    "C=A.union(B)\n",
    "#Computing the union, intersection of the two sets\n",
    "print(C)\n",
    "D=A.intersection(B)\n",
    "print(D)\n",
    "#finding if A is a subset of B using issubset() function and if A and B are disjoint or not by using isdisjoint() which both will\n",
    "# return either true or false\n",
    "print(A.issubset(B))\n",
    "print(A.isdisjoint(B))\n",
    "A_copy=A\n",
    "print(\"acopy:\",A_copy)\n",
    "A.update(B)\n",
    "print(A)\n",
    "B.update(A_copy)\n",
    "print(B)\n",
    "print(A.symmetric_difference(B))\n",
    "#deleting both the sets \n",
    "del A\n",
    "del B\n",
    "#converting the list to a new set and finding the length\n",
    "#length of the set is going to be lesser than the list because there will be only unique elements in the set\n",
    "len_list=len(age)\n",
    "print(len_list)\n",
    "age_set=set(age)\n",
    "print(age_set)\n",
    "set_len=len(age_set)\n",
    "print(\"the difference in lengths is :\",abs(len_list-set_len))"
   ]
  },
  {
   "cell_type": "code",
   "execution_count": 114,
   "id": "8c502f13",
   "metadata": {},
   "outputs": [
    {
     "name": "stdout",
     "output_type": "stream",
     "text": [
      "The area of the circle with radius 30mts is: 2826.0 sqmts\n",
      "The circumferece of the circle with radius 30mts is: 188.4 mts\n",
      "Enter the radius:56\n",
      "9847.04\n"
     ]
    }
   ],
   "source": [
    "#Question 5:-\n",
    "\n",
    "rad=30\n",
    "#finding the area and circumference for the circle\n",
    "area=3.14*rad**2\n",
    "circumferece=2*3.14*rad\n",
    "#printing the area and circumference of the circle\n",
    "print(\"The area of the circle with radius 30mts is:\",area,\"sqmts\")\n",
    "print(\"The circumferece of the circle with radius 30mts is:\",circumferece,\"mts\")\n",
    "#taking the input from the user and printing the area of the circle with the given radius\n",
    "radius=int(input(\"Enter the radius:\"))\n",
    "print(3.14*radius**2)\n"
   ]
  },
  {
   "cell_type": "code",
   "execution_count": 116,
   "id": "c53d9293",
   "metadata": {},
   "outputs": [
    {
     "name": "stdout",
     "output_type": "stream",
     "text": [
      "['I', 'am', 'a', 'teacher', 'and', 'I', 'love', 'to', 'inspire', 'and', 'teach', 'people']\n",
      "{'inspire', 'a', 'teacher', 'people', 'and', 'am', 'to', 'teach', 'love', 'I'}\n"
     ]
    }
   ],
   "source": [
    "#Question 6:-\n",
    "\n",
    "sentence=\"I am a teacher and I love to inspire and teach people\"\n",
    "#taking the sentence in a string and separating the contents when ever we encounter a white space so that we can get a \n",
    "#word and will be in a list\n",
    "words=sentence.split(\" \")\n",
    "#converting the list to set so that we have only the unique words \n",
    "print(words)\n",
    "unq_words=set(words)\n",
    "print(unq_words)"
   ]
  },
  {
   "cell_type": "code",
   "execution_count": 122,
   "id": "ceb44cd0",
   "metadata": {},
   "outputs": [
    {
     "name": "stdout",
     "output_type": "stream",
     "text": [
      "Name \t\t Age\t Country \t City\n",
      "Asabeneh\t 250\t Finland\t Helsinki\n"
     ]
    }
   ],
   "source": [
    "#Question 7:\n",
    "\n",
    "#using \\t to get a tab space in the output\n",
    "print(\"Name \\t\\t Age\\t Country \\t City\")\n",
    "print(\"Asabeneh\\t 250\\t Finland\\t Helsinki\")"
   ]
  },
  {
   "cell_type": "code",
   "execution_count": 126,
   "id": "80911a21",
   "metadata": {},
   "outputs": [
    {
     "name": "stdout",
     "output_type": "stream",
     "text": [
      "The area of a circle with radius 10 is 314 meters square.\n"
     ]
    }
   ],
   "source": [
    "#Question 8:-\n",
    "\n",
    "radius = 10\n",
    "area = 3.14 * radius ** 2\n",
    "#using the . formater  \n",
    "print(\"The area of a circle with radius {0} is {1} meters square.\".format(radius,int(area)))"
   ]
  },
  {
   "cell_type": "code",
   "execution_count": null,
   "id": "230b54ab",
   "metadata": {},
   "outputs": [],
   "source": []
  },
  {
   "cell_type": "code",
   "execution_count": 135,
   "id": "b93002fc",
   "metadata": {},
   "outputs": [
    {
     "name": "stdout",
     "output_type": "stream",
     "text": [
      "Enter the number of Students:4\n",
      "Enter the weight:150\n",
      "Enter the weight:155\n",
      "Enter the weight:145\n",
      "Enter the weight:148\n",
      "[150, 155, 145, 148]\n",
      "['68.04', '70.31', '65.77', '67.13']\n"
     ]
    }
   ],
   "source": [
    "#taking the input for number of weights\n",
    "n=int(input(\"Enter the number of Students:\"))\n",
    "#creating a list for weights\n",
    "weights=[]\n",
    "#using for loop to interate to taking inputs from the user\n",
    "for i in range(n):\n",
    "    wt=int(input(\"Enter the weight:\"))\n",
    "    weights.append(wt)\n",
    "print(weights)\n",
    "kgs=[]\n",
    "#converting the weights from lbs to kgs \n",
    "for i in weights:\n",
    "    wt=i*0.45359237 \n",
    "    kgs.append(format(wt,\".2f\"))\n",
    "print(kgs)"
   ]
  }
 ],
 "metadata": {
  "kernelspec": {
   "display_name": "Python 3 (ipykernel)",
   "language": "python",
   "name": "python3"
  },
  "language_info": {
   "codemirror_mode": {
    "name": "ipython",
    "version": 3
   },
   "file_extension": ".py",
   "mimetype": "text/x-python",
   "name": "python",
   "nbconvert_exporter": "python",
   "pygments_lexer": "ipython3",
   "version": "3.9.13"
  }
 },
 "nbformat": 4,
 "nbformat_minor": 5
}
