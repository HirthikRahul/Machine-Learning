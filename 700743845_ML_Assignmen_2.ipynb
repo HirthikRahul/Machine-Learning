{
 "cells": [
  {
   "cell_type": "code",
   "execution_count": null,
   "id": "1d6ef675",
   "metadata": {},
   "outputs": [],
   "source": [
    "# Name: Siripurapu Hirthik Rahul\n",
    "# 700#: 700743845"
   ]
  },
  {
   "cell_type": "code",
   "execution_count": 41,
   "id": "c36c6a69",
   "metadata": {
    "scrolled": true
   },
   "outputs": [
    {
     "name": "stdout",
     "output_type": "stream",
     "text": [
      "* \n",
      "* * \n",
      "* * * \n",
      "* * * * \n",
      "* * * * * \n",
      "* * * * \n",
      "* * * \n",
      "* * \n",
      "* \n"
     ]
    }
   ],
   "source": [
    "# Question1:\n",
    "# Using for loop to iterate and print the first 5 rows\n",
    "for i in range(1,6):\n",
    "    print(i*'* ')\n",
    "    \n",
    "# using the second loop to iterate the next 4 rows\n",
    "for i in range(4,0,-1):\n",
    "    print(i*'* ')\n",
    "    \n",
    "\n"
   ]
  },
  {
   "cell_type": "code",
   "execution_count": 28,
   "id": "dd5ba8b6",
   "metadata": {},
   "outputs": [
    {
     "name": "stdout",
     "output_type": "stream",
     "text": [
      "[10, 20, 30, 40, 50, 60, 70, 80, 90, 100]\n",
      "20\n",
      "40\n",
      "60\n",
      "80\n",
      "100\n"
     ]
    }
   ],
   "source": [
    "# Question2:\n",
    "\n",
    "my_list = [10, 20, 30, 40, 50, 60, 70, 80, 90, 100]\n",
    "print(my_list)\n",
    "#finding the length of the list\n",
    "length=len(my_list)\n",
    "#using for loop and skipping the even indx elements \n",
    "for i in range(1,length,2):\n",
    "    print(my_list[i])"
   ]
  },
  {
   "cell_type": "code",
   "execution_count": 31,
   "id": "0a4cc387",
   "metadata": {},
   "outputs": [
    {
     "name": "stdout",
     "output_type": "stream",
     "text": [
      "[<class 'int'>, <class 'str'>, <class 'float'>]\n"
     ]
    }
   ],
   "source": [
    "# Question3:\n",
    "x = [23, 'Python', 23.98]\n",
    "y=[]\n",
    "# creating an empty list and appending the type of the elements into the list\n",
    "for i in x:\n",
    "    y.append((type(i)))\n",
    "print(y)"
   ]
  },
  {
   "cell_type": "code",
   "execution_count": 11,
   "id": "46f0df50",
   "metadata": {},
   "outputs": [
    {
     "name": "stdout",
     "output_type": "stream",
     "text": [
      "{1, 2, 3, 4, 5}\n",
      "[1, 2, 3, 4, 5]\n"
     ]
    }
   ],
   "source": [
    "# Question4:\n",
    "\n",
    "list1= [1,2,3,3,3,3,4,5]\n",
    "list2=set(list1)\n",
    "# converting the list to set to get only the unique elements\n",
    "#print(list2)\n",
    "#Converting the set to list and printing\n",
    "list3=list(list2)\n",
    "print(list3)\n"
   ]
  },
  {
   "cell_type": "code",
   "execution_count": 12,
   "id": "ab787d2c",
   "metadata": {},
   "outputs": [
    {
     "name": "stdout",
     "output_type": "stream",
     "text": [
      "12\n",
      "3\n"
     ]
    }
   ],
   "source": [
    "# Question5:\n",
    "\n",
    "s1= 'The quick Brow Fox'\n",
    "low=0\n",
    "up=0\n",
    "# for loop to iterate through the string\n",
    "for i in s1:\n",
    "    # using issupper() funtion to find if the character is upper case and the incrementing the count\n",
    "    if i.isupper():\n",
    "        up=up+1\n",
    "    # using islower() funtion to find if the character is lower case and the incrementing the count\n",
    "    elif i.islower():\n",
    "        low=low+1\n",
    "print(\"No. of lower-case characters:\",low)\n",
    "print(\"No. of Upper-case characters:\",up)"
   ]
  },
  {
   "cell_type": "code",
   "execution_count": null,
   "id": "562e4429",
   "metadata": {},
   "outputs": [],
   "source": []
  },
  {
   "cell_type": "code",
   "execution_count": null,
   "id": "c050004f",
   "metadata": {},
   "outputs": [],
   "source": []
  }
 ],
 "metadata": {
  "kernelspec": {
   "display_name": "Python 3 (ipykernel)",
   "language": "python",
   "name": "python3"
  },
  "language_info": {
   "codemirror_mode": {
    "name": "ipython",
    "version": 3
   },
   "file_extension": ".py",
   "mimetype": "text/x-python",
   "name": "python",
   "nbconvert_exporter": "python",
   "pygments_lexer": "ipython3",
   "version": "3.9.13"
  }
 },
 "nbformat": 4,
 "nbformat_minor": 5
}
